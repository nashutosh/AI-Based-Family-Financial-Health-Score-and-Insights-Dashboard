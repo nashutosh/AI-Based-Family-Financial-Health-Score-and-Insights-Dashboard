
{
 "cells": [
  {
   "cell_type": "code",
   "execution_count": null,
   "metadata": {},
   "outputs": [],
   "source": [
    "import pandas as pd\n",
    "import matplotlib.pyplot as plt\n",
    "import seaborn as sns\n",
    "\n",
    "data = pd.read_excel('data/family_financial_and_transactions_data.xlsx')\n",
    "\n",
    "# Data Preprocessing\n",
    "data['Transaction Date'] = pd.to_datetime(data['Transaction Date'])\n",
    "data['Month'] = data['Transaction Date'].dt.to_period('M')\n",
    "\n",
    "# Family-level Aggregation\n",
    "family_data = data.groupby(['Family ID', 'Month']).agg({\n",
    "    'Income': 'sum',\n",
    "    'Savings': 'sum',\n",
    "    'Expenses': 'sum',\n",
    "    'Loan Payments': 'sum',\n",
    "    'Credit Card Spending': 'sum',\n",
    "    'Financial Goals Met (%)': 'mean',\n",
    "    'Dependents': 'mean'\n",
    "}).reset_index()\n",
    "\n",
    "# Visualizations\n",
    "plt.figure(figsize=(12, 6))\n",
    "sns.barplot(data=family_data, x='Family ID', y='Income', palette='coolwarm')\n",
    "plt.title('Family Income Distribution')\n",
    "plt.show()"
   ]
  }
 ],
 "metadata": {
  "kernelspec": {
   "display_name": "Python 3",
   "language": "python",
   "name": "python3"
  },
  "language_info": {
   "codemirror_mode": {
    "name": "ipython",
    "version": 3
   },
   "file_extension": ".py",
   "mimetype": "text/x-python",
   "name": "python",
   "nbconvert_exporter": "python",
   "pygments_lexer": "ipython3",
   "version": "3.8.10"
  }
 },
 "nbformat": 4,
 "nbformat_minor": 4
}
